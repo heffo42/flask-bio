{
  "nbformat": 4,
  "nbformat_minor": 0,
  "metadata": {
    "colab": {
      "name": "PUBMED EDA.ipynb",
      "provenance": [],
      "collapsed_sections": [],
      "toc_visible": true,
      "authorship_tag": "ABX9TyNNkaL/hqSZDTfUYOsMJeCV",
      "include_colab_link": true
    },
    "kernelspec": {
      "name": "python3",
      "display_name": "Python 3"
    }
  },
  "cells": [
    {
      "cell_type": "markdown",
      "metadata": {
        "id": "view-in-github",
        "colab_type": "text"
      },
      "source": [
        "<a href=\"https://colab.research.google.com/github/heffo42/flask-bio/blob/main/PUBMED_EDA.ipynb\" target=\"_parent\"><img src=\"https://colab.research.google.com/assets/colab-badge.svg\" alt=\"Open In Colab\"/></a>"
      ]
    },
    {
      "cell_type": "code",
      "metadata": {
        "id": "p6a41NgLnMAc"
      },
      "source": [
        "import xml.etree.ElementTree as ET\n",
        "import ftplib\n",
        "import gzip"
      ],
      "execution_count": 1,
      "outputs": []
    },
    {
      "cell_type": "markdown",
      "metadata": {
        "id": "nKjrQSPJkTMP"
      },
      "source": [
        "# Connect with FTP"
      ]
    },
    {
      "cell_type": "code",
      "metadata": {
        "colab": {
          "base_uri": "https://localhost:8080/",
          "height": 35
        },
        "id": "rGx0ilqIkXfF",
        "outputId": "d13a92a3-2662-4ca9-c2d5-2aba9f3cd3a0"
      },
      "source": [
        "ftp_server = 'ftp.ncbi.nlm.nih.gov'\n",
        "ftp_session= ftplib.FTP(ftp_server)\n",
        "ftp_session.login()\n",
        "ftp_session.cwd('pubmed/baseline') #cwd to files"
      ],
      "execution_count": 2,
      "outputs": [
        {
          "output_type": "execute_result",
          "data": {
            "application/vnd.google.colaboratory.intrinsic+json": {
              "type": "string"
            },
            "text/plain": [
              "'250 CWD command successful'"
            ]
          },
          "metadata": {
            "tags": []
          },
          "execution_count": 2
        }
      ]
    },
    {
      "cell_type": "code",
      "metadata": {
        "id": "0qT2S6zFkfU1",
        "colab": {
          "base_uri": "https://localhost:8080/",
          "height": 341
        },
        "outputId": "c56d193b-fb08-46d7-8614-0913e7acf69f"
      },
      "source": [
        "all_files = ftp_session.nlst()\n",
        "content_files = []\n",
        "for c_file in all_files:\n",
        "  if c_file[-3:] == '.gz':\n",
        "    content_files.append(c_file) \n",
        "    ftp_session.retrbinary(\"RETR \" + c_file, open(c_file, 'wb').write)"
      ],
      "execution_count": 3,
      "outputs": [
        {
          "output_type": "error",
          "ename": "KeyboardInterrupt",
          "evalue": "ignored",
          "traceback": [
            "\u001b[0;31m---------------------------------------------------------------------------\u001b[0m",
            "\u001b[0;31mKeyboardInterrupt\u001b[0m                         Traceback (most recent call last)",
            "\u001b[0;32m<ipython-input-3-e7d286079165>\u001b[0m in \u001b[0;36m<module>\u001b[0;34m()\u001b[0m\n\u001b[1;32m      4\u001b[0m   \u001b[0;32mif\u001b[0m \u001b[0mc_file\u001b[0m\u001b[0;34m[\u001b[0m\u001b[0;34m-\u001b[0m\u001b[0;36m3\u001b[0m\u001b[0;34m:\u001b[0m\u001b[0;34m]\u001b[0m \u001b[0;34m==\u001b[0m \u001b[0;34m'.gz'\u001b[0m\u001b[0;34m:\u001b[0m\u001b[0;34m\u001b[0m\u001b[0;34m\u001b[0m\u001b[0m\n\u001b[1;32m      5\u001b[0m     \u001b[0mcontent_files\u001b[0m\u001b[0;34m.\u001b[0m\u001b[0mappend\u001b[0m\u001b[0;34m(\u001b[0m\u001b[0mc_file\u001b[0m\u001b[0;34m)\u001b[0m\u001b[0;34m\u001b[0m\u001b[0;34m\u001b[0m\u001b[0m\n\u001b[0;32m----> 6\u001b[0;31m     \u001b[0mftp_session\u001b[0m\u001b[0;34m.\u001b[0m\u001b[0mretrbinary\u001b[0m\u001b[0;34m(\u001b[0m\u001b[0;34m\"RETR \"\u001b[0m \u001b[0;34m+\u001b[0m \u001b[0mc_file\u001b[0m\u001b[0;34m,\u001b[0m \u001b[0mopen\u001b[0m\u001b[0;34m(\u001b[0m\u001b[0mc_file\u001b[0m\u001b[0;34m,\u001b[0m \u001b[0;34m'wb'\u001b[0m\u001b[0;34m)\u001b[0m\u001b[0;34m.\u001b[0m\u001b[0mwrite\u001b[0m\u001b[0;34m)\u001b[0m\u001b[0;34m\u001b[0m\u001b[0;34m\u001b[0m\u001b[0m\n\u001b[0m",
            "\u001b[0;32m/usr/lib/python3.6/ftplib.py\u001b[0m in \u001b[0;36mretrbinary\u001b[0;34m(self, cmd, callback, blocksize, rest)\u001b[0m\n\u001b[1;32m    440\u001b[0m         \"\"\"\n\u001b[1;32m    441\u001b[0m         \u001b[0mself\u001b[0m\u001b[0;34m.\u001b[0m\u001b[0mvoidcmd\u001b[0m\u001b[0;34m(\u001b[0m\u001b[0;34m'TYPE I'\u001b[0m\u001b[0;34m)\u001b[0m\u001b[0;34m\u001b[0m\u001b[0;34m\u001b[0m\u001b[0m\n\u001b[0;32m--> 442\u001b[0;31m         \u001b[0;32mwith\u001b[0m \u001b[0mself\u001b[0m\u001b[0;34m.\u001b[0m\u001b[0mtransfercmd\u001b[0m\u001b[0;34m(\u001b[0m\u001b[0mcmd\u001b[0m\u001b[0;34m,\u001b[0m \u001b[0mrest\u001b[0m\u001b[0;34m)\u001b[0m \u001b[0;32mas\u001b[0m \u001b[0mconn\u001b[0m\u001b[0;34m:\u001b[0m\u001b[0;34m\u001b[0m\u001b[0;34m\u001b[0m\u001b[0m\n\u001b[0m\u001b[1;32m    443\u001b[0m             \u001b[0;32mwhile\u001b[0m \u001b[0;36m1\u001b[0m\u001b[0;34m:\u001b[0m\u001b[0;34m\u001b[0m\u001b[0;34m\u001b[0m\u001b[0m\n\u001b[1;32m    444\u001b[0m                 \u001b[0mdata\u001b[0m \u001b[0;34m=\u001b[0m \u001b[0mconn\u001b[0m\u001b[0;34m.\u001b[0m\u001b[0mrecv\u001b[0m\u001b[0;34m(\u001b[0m\u001b[0mblocksize\u001b[0m\u001b[0;34m)\u001b[0m\u001b[0;34m\u001b[0m\u001b[0;34m\u001b[0m\u001b[0m\n",
            "\u001b[0;32m/usr/lib/python3.6/ftplib.py\u001b[0m in \u001b[0;36mtransfercmd\u001b[0;34m(self, cmd, rest)\u001b[0m\n\u001b[1;32m    397\u001b[0m     \u001b[0;32mdef\u001b[0m \u001b[0mtransfercmd\u001b[0m\u001b[0;34m(\u001b[0m\u001b[0mself\u001b[0m\u001b[0;34m,\u001b[0m \u001b[0mcmd\u001b[0m\u001b[0;34m,\u001b[0m \u001b[0mrest\u001b[0m\u001b[0;34m=\u001b[0m\u001b[0;32mNone\u001b[0m\u001b[0;34m)\u001b[0m\u001b[0;34m:\u001b[0m\u001b[0;34m\u001b[0m\u001b[0;34m\u001b[0m\u001b[0m\n\u001b[1;32m    398\u001b[0m         \u001b[0;34m\"\"\"Like ntransfercmd() but returns only the socket.\"\"\"\u001b[0m\u001b[0;34m\u001b[0m\u001b[0;34m\u001b[0m\u001b[0m\n\u001b[0;32m--> 399\u001b[0;31m         \u001b[0;32mreturn\u001b[0m \u001b[0mself\u001b[0m\u001b[0;34m.\u001b[0m\u001b[0mntransfercmd\u001b[0m\u001b[0;34m(\u001b[0m\u001b[0mcmd\u001b[0m\u001b[0;34m,\u001b[0m \u001b[0mrest\u001b[0m\u001b[0;34m)\u001b[0m\u001b[0;34m[\u001b[0m\u001b[0;36m0\u001b[0m\u001b[0;34m]\u001b[0m\u001b[0;34m\u001b[0m\u001b[0;34m\u001b[0m\u001b[0m\n\u001b[0m\u001b[1;32m    400\u001b[0m \u001b[0;34m\u001b[0m\u001b[0m\n\u001b[1;32m    401\u001b[0m     \u001b[0;32mdef\u001b[0m \u001b[0mlogin\u001b[0m\u001b[0;34m(\u001b[0m\u001b[0mself\u001b[0m\u001b[0;34m,\u001b[0m \u001b[0muser\u001b[0m \u001b[0;34m=\u001b[0m \u001b[0;34m''\u001b[0m\u001b[0;34m,\u001b[0m \u001b[0mpasswd\u001b[0m \u001b[0;34m=\u001b[0m \u001b[0;34m''\u001b[0m\u001b[0;34m,\u001b[0m \u001b[0macct\u001b[0m \u001b[0;34m=\u001b[0m \u001b[0;34m''\u001b[0m\u001b[0;34m)\u001b[0m\u001b[0;34m:\u001b[0m\u001b[0;34m\u001b[0m\u001b[0;34m\u001b[0m\u001b[0m\n",
            "\u001b[0;32m/usr/lib/python3.6/ftplib.py\u001b[0m in \u001b[0;36mntransfercmd\u001b[0;34m(self, cmd, rest)\u001b[0m\n\u001b[1;32m    359\u001b[0m             \u001b[0mhost\u001b[0m\u001b[0;34m,\u001b[0m \u001b[0mport\u001b[0m \u001b[0;34m=\u001b[0m \u001b[0mself\u001b[0m\u001b[0;34m.\u001b[0m\u001b[0mmakepasv\u001b[0m\u001b[0;34m(\u001b[0m\u001b[0;34m)\u001b[0m\u001b[0;34m\u001b[0m\u001b[0;34m\u001b[0m\u001b[0m\n\u001b[1;32m    360\u001b[0m             conn = socket.create_connection((host, port), self.timeout,\n\u001b[0;32m--> 361\u001b[0;31m                                             source_address=self.source_address)\n\u001b[0m\u001b[1;32m    362\u001b[0m             \u001b[0;32mtry\u001b[0m\u001b[0;34m:\u001b[0m\u001b[0;34m\u001b[0m\u001b[0;34m\u001b[0m\u001b[0m\n\u001b[1;32m    363\u001b[0m                 \u001b[0;32mif\u001b[0m \u001b[0mrest\u001b[0m \u001b[0;32mis\u001b[0m \u001b[0;32mnot\u001b[0m \u001b[0;32mNone\u001b[0m\u001b[0;34m:\u001b[0m\u001b[0;34m\u001b[0m\u001b[0;34m\u001b[0m\u001b[0m\n",
            "\u001b[0;32m/usr/lib/python3.6/socket.py\u001b[0m in \u001b[0;36mcreate_connection\u001b[0;34m(address, timeout, source_address)\u001b[0m\n\u001b[1;32m    711\u001b[0m             \u001b[0;32mif\u001b[0m \u001b[0msource_address\u001b[0m\u001b[0;34m:\u001b[0m\u001b[0;34m\u001b[0m\u001b[0;34m\u001b[0m\u001b[0m\n\u001b[1;32m    712\u001b[0m                 \u001b[0msock\u001b[0m\u001b[0;34m.\u001b[0m\u001b[0mbind\u001b[0m\u001b[0;34m(\u001b[0m\u001b[0msource_address\u001b[0m\u001b[0;34m)\u001b[0m\u001b[0;34m\u001b[0m\u001b[0;34m\u001b[0m\u001b[0m\n\u001b[0;32m--> 713\u001b[0;31m             \u001b[0msock\u001b[0m\u001b[0;34m.\u001b[0m\u001b[0mconnect\u001b[0m\u001b[0;34m(\u001b[0m\u001b[0msa\u001b[0m\u001b[0;34m)\u001b[0m\u001b[0;34m\u001b[0m\u001b[0;34m\u001b[0m\u001b[0m\n\u001b[0m\u001b[1;32m    714\u001b[0m             \u001b[0;31m# Break explicitly a reference cycle\u001b[0m\u001b[0;34m\u001b[0m\u001b[0;34m\u001b[0m\u001b[0;34m\u001b[0m\u001b[0m\n\u001b[1;32m    715\u001b[0m             \u001b[0merr\u001b[0m \u001b[0;34m=\u001b[0m \u001b[0;32mNone\u001b[0m\u001b[0;34m\u001b[0m\u001b[0;34m\u001b[0m\u001b[0m\n",
            "\u001b[0;31mKeyboardInterrupt\u001b[0m: "
          ]
        }
      ]
    },
    {
      "cell_type": "markdown",
      "metadata": {
        "id": "WPdyowi6mze-"
      },
      "source": [
        "# Processes Each File"
      ]
    },
    {
      "cell_type": "code",
      "metadata": {
        "colab": {
          "base_uri": "https://localhost:8080/",
          "height": 35
        },
        "id": "FmMHOrm9kv3f",
        "outputId": "d925c6bb-6bf2-467e-be65-82f87dbecbfa"
      },
      "source": [
        "content_files[0]"
      ],
      "execution_count": 4,
      "outputs": [
        {
          "output_type": "execute_result",
          "data": {
            "application/vnd.google.colaboratory.intrinsic+json": {
              "type": "string"
            },
            "text/plain": [
              "'pubmed21n0004.xml.gz'"
            ]
          },
          "metadata": {
            "tags": []
          },
          "execution_count": 4
        }
      ]
    },
    {
      "cell_type": "code",
      "metadata": {
        "id": "q-Utei-TnGfd"
      },
      "source": [
        "filename = content_files[0]"
      ],
      "execution_count": 5,
      "outputs": []
    },
    {
      "cell_type": "code",
      "metadata": {
        "id": "CX15VUKcnJIn"
      },
      "source": [
        "input = gzip.open(filename, 'r')\n",
        "tree = ET.parse(input)\n",
        "root = tree.getroot()"
      ],
      "execution_count": 6,
      "outputs": []
    },
    {
      "cell_type": "markdown",
      "metadata": {
        "id": "duYAJh5UnlG7"
      },
      "source": [
        "## Process Each Article Within File"
      ]
    },
    {
      "cell_type": "code",
      "metadata": {
        "id": "DVwMN3xMp2t1",
        "colab": {
          "base_uri": "https://localhost:8080/"
        },
        "outputId": "bac02a9b-1e3a-4a13-a8a9-07d563526370"
      },
      "source": [
        "i = 10\n",
        "for child in root:\n",
        "  print(child)\n",
        "  i -= 1\n",
        "  if i == 0:\n",
        "    break"
      ],
      "execution_count": 7,
      "outputs": [
        {
          "output_type": "stream",
          "text": [
            "<Element 'PubmedArticle' at 0x7fee63b62818>\n",
            "<Element 'PubmedArticle' at 0x7fee63afd368>\n",
            "<Element 'PubmedArticle' at 0x7fee63b09b38>\n",
            "<Element 'PubmedArticle' at 0x7fee63b12f48>\n",
            "<Element 'PubmedArticle' at 0x7fee63b28cc8>\n",
            "<Element 'PubmedArticle' at 0x7fee63abddb8>\n",
            "<Element 'PubmedArticle' at 0x7fee63ad1958>\n",
            "<Element 'PubmedArticle' at 0x7fee63a6c7c8>\n",
            "<Element 'PubmedArticle' at 0x7fee63a88048>\n",
            "<Element 'PubmedArticle' at 0x7fee63a986d8>\n"
          ],
          "name": "stdout"
        }
      ]
    },
    {
      "cell_type": "code",
      "metadata": {
        "id": "TAhV8vMXnuMF"
      },
      "source": [
        "\n",
        "def process_contributor(a, contrib_type):\n",
        "  authors = []\n",
        "  for author in a.findall(f'.//{contrib_type}'):\n",
        "    current_author = {}\n",
        "    l_name = author.find('./LastName')\n",
        "    if l_name is not None:\n",
        "      current_author['last'] = l_name.text\n",
        "    f_name = author.find('./ForeName')\n",
        "    if f_name is not None:\n",
        "      current_author['fore'] = f_name.text\n",
        "    authors.append(current_author)\n",
        "  return authors\n",
        "\n",
        "\n",
        "def processes_article(a):\n",
        "  json_art = {}\n",
        "  # print(ET.tostring(article, encoding='utf8').decode('utf8'))\n",
        "  # a.findall('./MedlineCitation/DateCompleted/')\n",
        "\n",
        "  # authors (1)\n",
        "  json_art['authors'] = process_contributor(a, 'Author')\n",
        "\n",
        "  # investigators (2)\n",
        "  json_art['investigators'] = process_contributor(a, 'Investigator')\n",
        "\n",
        "\n",
        "  # PubMed Identifier (3)\n",
        "  json_art['pmid'] = a.find('.//PMID').text\n",
        "\n",
        "  # accesing number NCT ID (4)\n",
        "\n",
        "  # abstract (5)\n",
        "  abstract = a.find('.//AbstractText')\n",
        "  if abstract is not None:\n",
        "    json_art['abstract'] = abstract.text\n",
        "\n",
        "  # title (6)\n",
        "  json_art['title'] = a.find('./MedlineCitation/Article/ArticleTitle').text\n",
        "\n",
        "  # MeSH terms (7)\n",
        "\n",
        "  # publication date (8)\n",
        "\n",
        " \n",
        "\n",
        "  return json_art\n",
        "\n",
        "  \n",
        "\n"
      ],
      "execution_count": 14,
      "outputs": []
    },
    {
      "cell_type": "code",
      "metadata": {
        "colab": {
          "base_uri": "https://localhost:8080/"
        },
        "id": "5ExH4nWz1HlW",
        "outputId": "0bcecbdc-3181-477f-dbe8-15250cad2336"
      },
      "source": [
        "processes_article(samples[0])"
      ],
      "execution_count": 16,
      "outputs": [
        {
          "output_type": "execute_result",
          "data": {
            "text/plain": [
              "{'authors': [{'fore': 'D G', 'last': 'McDevitt'}],\n",
              " 'investigators': [],\n",
              " 'pmid': '92018',\n",
              " 'title': 'Problems in the treatment of hypertension.'}"
            ]
          },
          "metadata": {
            "tags": []
          },
          "execution_count": 16
        }
      ]
    },
    {
      "cell_type": "code",
      "metadata": {
        "colab": {
          "base_uri": "https://localhost:8080/"
        },
        "id": "hxNY31fT2FCp",
        "outputId": "97b4ff17-a1e9-455e-9467-cbb9b38518b2"
      },
      "source": [
        "print(ET.tostring(samples[2], encoding='unicode'))"
      ],
      "execution_count": 29,
      "outputs": [
        {
          "output_type": "stream",
          "text": [
            "<PubmedArticle>\n",
            "    <MedlineCitation Owner=\"NLM\" Status=\"MEDLINE\">\n",
            "      <PMID Version=\"1\">92020</PMID>\n",
            "      <DateCompleted>\n",
            "        <Year>1980</Year>\n",
            "        <Month>01</Month>\n",
            "        <Day>28</Day>\n",
            "      </DateCompleted>\n",
            "      <DateRevised>\n",
            "        <Year>2005</Year>\n",
            "        <Month>11</Month>\n",
            "        <Day>17</Day>\n",
            "      </DateRevised>\n",
            "      <Article PubModel=\"Print\">\n",
            "        <Journal>\n",
            "          <ISSN IssnType=\"Print\">0552-2080</ISSN>\n",
            "          <JournalIssue CitedMedium=\"Print\">\n",
            "            <Volume>24</Volume>\n",
            "            <Issue>10</Issue>\n",
            "            <PubDate>\n",
            "              <Year>1979</Year>\n",
            "              <Month>Oct</Month>\n",
            "            </PubDate>\n",
            "          </JournalIssue>\n",
            "          <Title>Problemy gematologii i perelivaniia krovi</Title>\n",
            "          <ISOAbbreviation>Probl Gematol Pereliv Krovi</ISOAbbreviation>\n",
            "        </Journal>\n",
            "        <ArticleTitle>[Problems in organizing the manufacture of antirhesus immunoglobulin].</ArticleTitle>\n",
            "        <Pagination>\n",
            "          <MedlinePgn>54-6</MedlinePgn>\n",
            "        </Pagination>\n",
            "        <AuthorList CompleteYN=\"Y\">\n",
            "          <Author ValidYN=\"Y\">\n",
            "            <LastName>Klimova</LastName>\n",
            "            <ForeName>K N</ForeName>\n",
            "            <Initials>KN</Initials>\n",
            "          </Author>\n",
            "          <Author ValidYN=\"Y\">\n",
            "            <LastName>Mel'nikov</LastName>\n",
            "            <ForeName>G A</ForeName>\n",
            "            <Initials>GA</Initials>\n",
            "          </Author>\n",
            "          <Author ValidYN=\"Y\">\n",
            "            <LastName>P'iankova</LastName>\n",
            "            <ForeName>I B</ForeName>\n",
            "            <Initials>IB</Initials>\n",
            "          </Author>\n",
            "          <Author ValidYN=\"Y\">\n",
            "            <LastName>Muravikova</LastName>\n",
            "            <ForeName>T B</ForeName>\n",
            "            <Initials>TB</Initials>\n",
            "          </Author>\n",
            "          <Author ValidYN=\"Y\">\n",
            "            <LastName>Lebedeva</LastName>\n",
            "            <ForeName>E S</ForeName>\n",
            "            <Initials>ES</Initials>\n",
            "          </Author>\n",
            "        </AuthorList>\n",
            "        <Language>rus</Language>\n",
            "        <PublicationTypeList>\n",
            "          <PublicationType UI=\"D016428\">Journal Article</PublicationType>\n",
            "        </PublicationTypeList>\n",
            "        <VernacularTitle>Voprosy organizatsii proizvodstva immunoglobulina antirezus.</VernacularTitle>\n",
            "      </Article>\n",
            "      <MedlineJournalInfo>\n",
            "        <Country>Russia (Federation)</Country>\n",
            "        <MedlineTA>Probl Gematol Pereliv Krovi</MedlineTA>\n",
            "        <NlmUniqueID>0401232</NlmUniqueID>\n",
            "        <ISSNLinking>0552-2080</ISSNLinking>\n",
            "      </MedlineJournalInfo>\n",
            "      <ChemicalList>\n",
            "        <Chemical>\n",
            "          <RegistryNumber>0</RegistryNumber>\n",
            "          <NameOfSubstance UI=\"D007136\">Immunoglobulins</NameOfSubstance>\n",
            "        </Chemical>\n",
            "        <Chemical>\n",
            "          <RegistryNumber>0</RegistryNumber>\n",
            "          <NameOfSubstance UI=\"D012204\">Rh-Hr Blood-Group System</NameOfSubstance>\n",
            "        </Chemical>\n",
            "        <Chemical>\n",
            "          <RegistryNumber>0</RegistryNumber>\n",
            "          <NameOfSubstance UI=\"D005719\">gamma-Globulins</NameOfSubstance>\n",
            "        </Chemical>\n",
            "      </ChemicalList>\n",
            "      <CitationSubset>IM</CitationSubset>\n",
            "      <MeshHeadingList>\n",
            "        <MeshHeading>\n",
            "          <DescriptorName MajorTopicYN=\"N\" UI=\"D001782\">Blood Donors</DescriptorName>\n",
            "        </MeshHeading>\n",
            "        <MeshHeading>\n",
            "          <DescriptorName MajorTopicYN=\"N\" UI=\"D001793\">Blood Preservation</DescriptorName>\n",
            "        </MeshHeading>\n",
            "        <MeshHeading>\n",
            "          <DescriptorName MajorTopicYN=\"N\" UI=\"D006801\">Humans</DescriptorName>\n",
            "        </MeshHeading>\n",
            "        <MeshHeading>\n",
            "          <DescriptorName MajorTopicYN=\"N\" UI=\"D007114\">Immunization</DescriptorName>\n",
            "        </MeshHeading>\n",
            "        <MeshHeading>\n",
            "          <DescriptorName MajorTopicYN=\"N\" UI=\"D007136\">Immunoglobulins</DescriptorName>\n",
            "          <QualifierName MajorTopicYN=\"Y\" UI=\"Q000302\">isolation &amp; purification</QualifierName>\n",
            "        </MeshHeading>\n",
            "        <MeshHeading>\n",
            "          <DescriptorName MajorTopicYN=\"N\" UI=\"D012204\">Rh-Hr Blood-Group System</DescriptorName>\n",
            "          <QualifierName MajorTopicYN=\"Y\" UI=\"Q000276\">immunology</QualifierName>\n",
            "        </MeshHeading>\n",
            "        <MeshHeading>\n",
            "          <DescriptorName MajorTopicYN=\"N\" UI=\"D013696\">Temperature</DescriptorName>\n",
            "        </MeshHeading>\n",
            "        <MeshHeading>\n",
            "          <DescriptorName MajorTopicYN=\"N\" UI=\"D013997\">Time Factors</DescriptorName>\n",
            "        </MeshHeading>\n",
            "        <MeshHeading>\n",
            "          <DescriptorName MajorTopicYN=\"N\" UI=\"D005719\">gamma-Globulins</DescriptorName>\n",
            "          <QualifierName MajorTopicYN=\"N\" UI=\"Q000302\">isolation &amp; purification</QualifierName>\n",
            "        </MeshHeading>\n",
            "      </MeshHeadingList>\n",
            "    </MedlineCitation>\n",
            "    <PubmedData>\n",
            "      <History>\n",
            "        <PubMedPubDate PubStatus=\"pubmed\">\n",
            "          <Year>1979</Year>\n",
            "          <Month>10</Month>\n",
            "          <Day>1</Day>\n",
            "        </PubMedPubDate>\n",
            "        <PubMedPubDate PubStatus=\"medline\">\n",
            "          <Year>1979</Year>\n",
            "          <Month>10</Month>\n",
            "          <Day>1</Day>\n",
            "          <Hour>0</Hour>\n",
            "          <Minute>1</Minute>\n",
            "        </PubMedPubDate>\n",
            "        <PubMedPubDate PubStatus=\"entrez\">\n",
            "          <Year>1979</Year>\n",
            "          <Month>10</Month>\n",
            "          <Day>1</Day>\n",
            "          <Hour>0</Hour>\n",
            "          <Minute>0</Minute>\n",
            "        </PubMedPubDate>\n",
            "      </History>\n",
            "      <PublicationStatus>ppublish</PublicationStatus>\n",
            "      <ArticleIdList>\n",
            "        <ArticleId IdType=\"pubmed\">92020</ArticleId>\n",
            "      </ArticleIdList>\n",
            "    </PubmedData>\n",
            "  </PubmedArticle>\n",
            "  \n"
          ],
          "name": "stdout"
        }
      ]
    },
    {
      "cell_type": "code",
      "metadata": {
        "colab": {
          "base_uri": "https://localhost:8080/",
          "height": 96
        },
        "id": "qC9UnlV3vyjY",
        "outputId": "d472078b-2ce9-472a-9842-e3aa778d28e4"
      },
      "source": [
        "for x in samples:\n",
        "  q = x.findall('.//DataBankName[text()=\"ClinicalTrials.gov\"]')\n",
        "  if len(q) > 0:\n",
        "    print(q)\n",
        "    break\n",
        "\n",
        "\n",
        "\n"
      ],
      "execution_count": 30,
      "outputs": [
        {
          "output_type": "error",
          "ename": "SyntaxError",
          "evalue": "ignored",
          "traceback": [
            "\u001b[0;36m  File \u001b[0;32m\"<string>\"\u001b[0;36m, line \u001b[0;32munknown\u001b[0m\n\u001b[0;31mSyntaxError\u001b[0m\u001b[0;31m:\u001b[0m invalid predicate\n"
          ]
        }
      ]
    },
    {
      "cell_type": "code",
      "metadata": {
        "id": "ESP6YaCVz0dI"
      },
      "source": [
        "a = './/DataBankName[text()=\"ClinicalTrials.gov\"]'"
      ],
      "execution_count": null,
      "outputs": []
    },
    {
      "cell_type": "code",
      "metadata": {
        "id": "PqcVCyRXx4YP"
      },
      "source": [
        "x = processes_article(samples[9])"
      ],
      "execution_count": null,
      "outputs": []
    },
    {
      "cell_type": "code",
      "metadata": {
        "colab": {
          "base_uri": "https://localhost:8080/"
        },
        "id": "oPqBsnScmgGH",
        "outputId": "be50df5e-3992-4601-95ea-baab19abf7c0"
      },
      "source": [
        "x"
      ],
      "execution_count": null,
      "outputs": [
        {
          "output_type": "execute_result",
          "data": {
            "text/plain": [
              "{'abstract': \"Development of a highly sensitive silver stain permits the characterization of trace cellular and body fluid proteins separated by the two-dimensional electrophoresis technique of O'Farrell. Many of the proteins detected by the silver stain in urine, spinal fluid, amniotic fluid, and cells were undetected with the widely used Coomassie blue stain. Trace polypeptides observed in Escherichia coli cell lysates with this silver stain could be detected previously only by growth in radioactive precursors followed by lengthy autoradiography. In situations that do not permit the use of radioactive labeling, as in human clinical studies, the enhanced ability to detect proteins achieved by the silver stain will facilitate metabolic studies and the screening for protein abnormalities in mutational studies and in genetic diseases.\",\n",
              " 'authors': [{'fore': 'C R', 'last': 'Merril'},\n",
              "  {'fore': 'R C', 'last': 'Switzer'},\n",
              "  {'fore': 'M L', 'last': 'Van Keuren'}],\n",
              " 'investigators': [],\n",
              " 'pmid': '92027',\n",
              " 'title': 'Trace polypeptides in cellular extracts and human body fluids detected by two-dimensional electrophoresis and a highly sensitive silver stain.'}"
            ]
          },
          "metadata": {
            "tags": []
          },
          "execution_count": 24
        }
      ]
    },
    {
      "cell_type": "code",
      "metadata": {
        "id": "NPegb37Vx5Oh"
      },
      "source": [
        "if len(x['investigators']) > 0:\n",
        "  print('woot')"
      ],
      "execution_count": null,
      "outputs": []
    },
    {
      "cell_type": "code",
      "metadata": {
        "colab": {
          "base_uri": "https://localhost:8080/"
        },
        "id": "MZvWfFJR0sYQ",
        "outputId": "72cb0da6-48d7-4a4d-dd8c-6835c1f2786b"
      },
      "source": [
        "sum(1 for _ in iter(root))"
      ],
      "execution_count": 13,
      "outputs": [
        {
          "output_type": "execute_result",
          "data": {
            "text/plain": [
              "30000"
            ]
          },
          "metadata": {
            "tags": []
          },
          "execution_count": 13
        }
      ]
    },
    {
      "cell_type": "code",
      "metadata": {
        "id": "ADAVvQhW0yGA"
      },
      "source": [
        ""
      ],
      "execution_count": null,
      "outputs": []
    },
    {
      "cell_type": "code",
      "metadata": {
        "id": "xUcTRR4yv9EE"
      },
      "source": [
        "samples = []\n",
        "root_iter = iter(root)\n",
        "for i in range(30):\n",
        "  samples.append(next(root_iter))"
      ],
      "execution_count": 10,
      "outputs": []
    },
    {
      "cell_type": "code",
      "metadata": {
        "colab": {
          "base_uri": "https://localhost:8080/"
        },
        "id": "5HIJHv5KwGGg",
        "outputId": "46669edd-df6a-4ff2-80ba-8a9915c39c1e"
      },
      "source": [
        "ET.tostring(a.findall('./MedlineCitation/Article/AuthorList/')[0])"
      ],
      "execution_count": null,
      "outputs": [
        {
          "output_type": "execute_result",
          "data": {
            "text/plain": [
              "b'<Author ValidYN=\"Y\">\\n            <LastName>Makar</LastName>\\n            <ForeName>A B</ForeName>\\n            <Initials>AB</Initials>\\n          </Author>\\n          '"
            ]
          },
          "metadata": {
            "tags": []
          },
          "execution_count": 61
        }
      ]
    },
    {
      "cell_type": "markdown",
      "metadata": {
        "id": "MHzp8Zj5otvU"
      },
      "source": [
        "# Sandbox"
      ]
    },
    {
      "cell_type": "code",
      "metadata": {
        "id": "chM2fws2ov-x"
      },
      "source": [
        "a = next(iter(root))"
      ],
      "execution_count": null,
      "outputs": []
    },
    {
      "cell_type": "code",
      "metadata": {
        "id": "_1-4aGY0o4V8"
      },
      "source": [
        "temp = iter(root)\n",
        "next(temp)\n",
        "a = next(temp)"
      ],
      "execution_count": null,
      "outputs": []
    },
    {
      "cell_type": "code",
      "metadata": {
        "colab": {
          "base_uri": "https://localhost:8080/",
          "height": 232
        },
        "id": "LRTutMn0rxze",
        "outputId": "68d009b3-c848-4986-8467-f54028cf7f1e"
      },
      "source": [
        "i = 0\n",
        "j = 0\n",
        "for a in root:\n",
        "  j += 1\n",
        "  if len():\n",
        "    i += 1\n",
        "    # print(a.find('.//AbstractText').text)\n",
        "    # print(ET.tostring(a, encoding='utf8').decode('utf8'))"
      ],
      "execution_count": null,
      "outputs": [
        {
          "output_type": "error",
          "ename": "TypeError",
          "evalue": "ignored",
          "traceback": [
            "\u001b[0;31m---------------------------------------------------------------------------\u001b[0m",
            "\u001b[0;31mTypeError\u001b[0m                                 Traceback (most recent call last)",
            "\u001b[0;32m<ipython-input-83-f0a23803063a>\u001b[0m in \u001b[0;36m<module>\u001b[0;34m()\u001b[0m\n\u001b[1;32m      3\u001b[0m \u001b[0;32mfor\u001b[0m \u001b[0ma\u001b[0m \u001b[0;32min\u001b[0m \u001b[0mroot\u001b[0m\u001b[0;34m:\u001b[0m\u001b[0;34m\u001b[0m\u001b[0;34m\u001b[0m\u001b[0m\n\u001b[1;32m      4\u001b[0m   \u001b[0mj\u001b[0m \u001b[0;34m+=\u001b[0m \u001b[0;36m1\u001b[0m\u001b[0;34m\u001b[0m\u001b[0;34m\u001b[0m\u001b[0m\n\u001b[0;32m----> 5\u001b[0;31m   \u001b[0;32mif\u001b[0m \u001b[0mlen\u001b[0m\u001b[0;34m(\u001b[0m\u001b[0ma\u001b[0m\u001b[0;34m.\u001b[0m\u001b[0mfind\u001b[0m\u001b[0;34m(\u001b[0m\u001b[0;34m'.//AbstractText'\u001b[0m\u001b[0;34m)\u001b[0m\u001b[0;34m)\u001b[0m\u001b[0;34m:\u001b[0m\u001b[0;34m\u001b[0m\u001b[0;34m\u001b[0m\u001b[0m\n\u001b[0m\u001b[1;32m      6\u001b[0m     \u001b[0mi\u001b[0m \u001b[0;34m+=\u001b[0m \u001b[0;36m1\u001b[0m\u001b[0;34m\u001b[0m\u001b[0;34m\u001b[0m\u001b[0m\n\u001b[1;32m      7\u001b[0m     \u001b[0;31m# print(a.find('.//AbstractText').text)\u001b[0m\u001b[0;34m\u001b[0m\u001b[0;34m\u001b[0m\u001b[0;34m\u001b[0m\u001b[0m\n",
            "\u001b[0;31mTypeError\u001b[0m: object of type 'NoneType' has no len()"
          ]
        }
      ]
    },
    {
      "cell_type": "code",
      "metadata": {
        "colab": {
          "base_uri": "https://localhost:8080/",
          "height": 164
        },
        "id": "rB6UXYJ_socd",
        "outputId": "ff29b6bd-6ee6-4b62-80cb-18ac1d093bac"
      },
      "source": [
        ""
      ],
      "execution_count": null,
      "outputs": [
        {
          "output_type": "error",
          "ename": "AttributeError",
          "evalue": "ignored",
          "traceback": [
            "\u001b[0;31m---------------------------------------------------------------------------\u001b[0m",
            "\u001b[0;31mAttributeError\u001b[0m                            Traceback (most recent call last)",
            "\u001b[0;32m<ipython-input-84-6e766b224998>\u001b[0m in \u001b[0;36m<module>\u001b[0;34m()\u001b[0m\n\u001b[0;32m----> 1\u001b[0;31m \u001b[0ma\u001b[0m\u001b[0;34m.\u001b[0m\u001b[0mfind\u001b[0m\u001b[0;34m(\u001b[0m\u001b[0;34m'.//AbstractText'\u001b[0m\u001b[0;34m)\u001b[0m\u001b[0;34m.\u001b[0m\u001b[0mtext\u001b[0m\u001b[0;34m\u001b[0m\u001b[0;34m\u001b[0m\u001b[0m\n\u001b[0m",
            "\u001b[0;31mAttributeError\u001b[0m: 'NoneType' object has no attribute 'text'"
          ]
        }
      ]
    },
    {
      "cell_type": "code",
      "metadata": {
        "id": "slkcje3nr9Jr"
      },
      "source": [
        "authors = []\n",
        "for author in a.findall('.//Author'):\n",
        "  current_author = {}\n",
        "  l_name = author.find('./LastName')\n",
        "  if l_name is not None:\n",
        "    current_author['last'] = l_name.text\n",
        "  f_name = author.find('./ForeName')\n",
        "  if f_name is not None:\n",
        "    current_author['fore'] = f_name.text\n",
        "  authors.append(current_author)\n",
        "\n",
        "\n"
      ],
      "execution_count": null,
      "outputs": []
    },
    {
      "cell_type": "code",
      "metadata": {
        "id": "RA4DGjnCuUOL"
      },
      "source": [
        ""
      ],
      "execution_count": null,
      "outputs": []
    },
    {
      "cell_type": "code",
      "metadata": {
        "colab": {
          "base_uri": "https://localhost:8080/"
        },
        "id": "czhyH_W5pDbH",
        "outputId": "d8c473d7-529d-4218-c5e0-a2104e593d2b"
      },
      "source": [
        "print(ET.tostring(a, encoding='utf8').decode('utf8'))"
      ],
      "execution_count": null,
      "outputs": [
        {
          "output_type": "stream",
          "text": [
            "<?xml version='1.0' encoding='utf8'?>\n",
            "<PubmedArticle>\n",
            "    <MedlineCitation Owner=\"NLM\" Status=\"MEDLINE\">\n",
            "      <PMID Version=\"1\">92019</PMID>\n",
            "      <DateCompleted>\n",
            "        <Year>1980</Year>\n",
            "        <Month>01</Month>\n",
            "        <Day>28</Day>\n",
            "      </DateCompleted>\n",
            "      <DateRevised>\n",
            "        <Year>2005</Year>\n",
            "        <Month>11</Month>\n",
            "        <Day>17</Day>\n",
            "      </DateRevised>\n",
            "      <Article PubModel=\"Print\">\n",
            "        <Journal>\n",
            "          <ISSN IssnType=\"Print\">0552-2080</ISSN>\n",
            "          <JournalIssue CitedMedium=\"Print\">\n",
            "            <Volume>24</Volume>\n",
            "            <Issue>10</Issue>\n",
            "            <PubDate>\n",
            "              <Year>1979</Year>\n",
            "              <Month>Oct</Month>\n",
            "            </PubDate>\n",
            "          </JournalIssue>\n",
            "          <Title>Problemy gematologii i perelivaniia krovi</Title>\n",
            "          <ISOAbbreviation>Probl Gematol Pereliv Krovi</ISOAbbreviation>\n",
            "        </Journal>\n",
            "        <ArticleTitle>[Different aspects of using antirhesus immunoglobulin].</ArticleTitle>\n",
            "        <Pagination>\n",
            "          <MedlinePgn>49-54</MedlinePgn>\n",
            "        </Pagination>\n",
            "        <AuthorList CompleteYN=\"Y\">\n",
            "          <Author ValidYN=\"Y\">\n",
            "            <LastName>Belozerova</LastName>\n",
            "            <ForeName>V I</ForeName>\n",
            "            <Initials>VI</Initials>\n",
            "          </Author>\n",
            "        </AuthorList>\n",
            "        <Language>rus</Language>\n",
            "        <PublicationTypeList>\n",
            "          <PublicationType UI=\"D016428\">Journal Article</PublicationType>\n",
            "          <PublicationType UI=\"D016454\">Review</PublicationType>\n",
            "        </PublicationTypeList>\n",
            "        <VernacularTitle>Razlichnye aspekty primeneniia immunoglobulina antirezus.</VernacularTitle>\n",
            "      </Article>\n",
            "      <MedlineJournalInfo>\n",
            "        <Country>Russia (Federation)</Country>\n",
            "        <MedlineTA>Probl Gematol Pereliv Krovi</MedlineTA>\n",
            "        <NlmUniqueID>0401232</NlmUniqueID>\n",
            "        <ISSNLinking>0552-2080</ISSNLinking>\n",
            "      </MedlineJournalInfo>\n",
            "      <ChemicalList>\n",
            "        <Chemical>\n",
            "          <RegistryNumber>0</RegistryNumber>\n",
            "          <NameOfSubstance UI=\"D007140\">Immunoglobulin Fab Fragments</NameOfSubstance>\n",
            "        </Chemical>\n",
            "        <Chemical>\n",
            "          <RegistryNumber>0</RegistryNumber>\n",
            "          <NameOfSubstance UI=\"D007136\">Immunoglobulins</NameOfSubstance>\n",
            "        </Chemical>\n",
            "        <Chemical>\n",
            "          <RegistryNumber>0</RegistryNumber>\n",
            "          <NameOfSubstance UI=\"D012204\">Rh-Hr Blood-Group System</NameOfSubstance>\n",
            "        </Chemical>\n",
            "        <Chemical>\n",
            "          <RegistryNumber>0</RegistryNumber>\n",
            "          <NameOfSubstance UI=\"D005719\">gamma-Globulins</NameOfSubstance>\n",
            "        </Chemical>\n",
            "      </ChemicalList>\n",
            "      <CitationSubset>IM</CitationSubset>\n",
            "      <MeshHeadingList>\n",
            "        <MeshHeading>\n",
            "          <DescriptorName MajorTopicYN=\"N\" UI=\"D000022\">Abortion, Spontaneous</DescriptorName>\n",
            "          <QualifierName MajorTopicYN=\"N\" UI=\"Q000276\">immunology</QualifierName>\n",
            "        </MeshHeading>\n",
            "        <MeshHeading>\n",
            "          <DescriptorName MajorTopicYN=\"N\" UI=\"D000032\">Abortion, Therapeutic</DescriptorName>\n",
            "          <QualifierName MajorTopicYN=\"N\" UI=\"Q000379\">methods</QualifierName>\n",
            "        </MeshHeading>\n",
            "        <MeshHeading>\n",
            "          <DescriptorName MajorTopicYN=\"N\" UI=\"D000917\">Antibody Formation</DescriptorName>\n",
            "        </MeshHeading>\n",
            "        <MeshHeading>\n",
            "          <DescriptorName MajorTopicYN=\"N\" UI=\"D001787\">Blood Group Incompatibility</DescriptorName>\n",
            "          <QualifierName MajorTopicYN=\"N\" UI=\"Q000517\">prevention &amp; control</QualifierName>\n",
            "        </MeshHeading>\n",
            "        <MeshHeading>\n",
            "          <DescriptorName MajorTopicYN=\"N\" UI=\"D001803\">Blood Transfusion</DescriptorName>\n",
            "        </MeshHeading>\n",
            "        <MeshHeading>\n",
            "          <DescriptorName MajorTopicYN=\"N\" UI=\"D004899\">Erythroblastosis, Fetal</DescriptorName>\n",
            "          <QualifierName MajorTopicYN=\"N\" UI=\"Q000517\">prevention &amp; control</QualifierName>\n",
            "        </MeshHeading>\n",
            "        <MeshHeading>\n",
            "          <DescriptorName MajorTopicYN=\"N\" UI=\"D005260\">Female</DescriptorName>\n",
            "        </MeshHeading>\n",
            "        <MeshHeading>\n",
            "          <DescriptorName MajorTopicYN=\"N\" UI=\"D006801\">Humans</DescriptorName>\n",
            "        </MeshHeading>\n",
            "        <MeshHeading>\n",
            "          <DescriptorName MajorTopicYN=\"N\" UI=\"D007116\">Immunization, Passive</DescriptorName>\n",
            "        </MeshHeading>\n",
            "        <MeshHeading>\n",
            "          <DescriptorName MajorTopicYN=\"N\" UI=\"D007140\">Immunoglobulin Fab Fragments</DescriptorName>\n",
            "          <QualifierName MajorTopicYN=\"N\" UI=\"Q000627\">therapeutic use</QualifierName>\n",
            "        </MeshHeading>\n",
            "        <MeshHeading>\n",
            "          <DescriptorName MajorTopicYN=\"N\" UI=\"D007136\">Immunoglobulins</DescriptorName>\n",
            "          <QualifierName MajorTopicYN=\"N\" UI=\"Q000008\">administration &amp; dosage</QualifierName>\n",
            "          <QualifierName MajorTopicYN=\"Y\" UI=\"Q000627\">therapeutic use</QualifierName>\n",
            "        </MeshHeading>\n",
            "        <MeshHeading>\n",
            "          <DescriptorName MajorTopicYN=\"N\" UI=\"D007231\">Infant, Newborn</DescriptorName>\n",
            "        </MeshHeading>\n",
            "        <MeshHeading>\n",
            "          <DescriptorName MajorTopicYN=\"N\" UI=\"D008431\">Maternal-Fetal Exchange</DescriptorName>\n",
            "        </MeshHeading>\n",
            "        <MeshHeading>\n",
            "          <DescriptorName MajorTopicYN=\"N\" UI=\"D011247\">Pregnancy</DescriptorName>\n",
            "        </MeshHeading>\n",
            "        <MeshHeading>\n",
            "          <DescriptorName MajorTopicYN=\"N\" UI=\"D012204\">Rh-Hr Blood-Group System</DescriptorName>\n",
            "          <QualifierName MajorTopicYN=\"Y\" UI=\"Q000276\">immunology</QualifierName>\n",
            "        </MeshHeading>\n",
            "        <MeshHeading>\n",
            "          <DescriptorName MajorTopicYN=\"N\" UI=\"D005719\">gamma-Globulins</DescriptorName>\n",
            "          <QualifierName MajorTopicYN=\"N\" UI=\"Q000627\">therapeutic use</QualifierName>\n",
            "        </MeshHeading>\n",
            "      </MeshHeadingList>\n",
            "      <NumberOfReferences>64</NumberOfReferences>\n",
            "    </MedlineCitation>\n",
            "    <PubmedData>\n",
            "      <History>\n",
            "        <PubMedPubDate PubStatus=\"pubmed\">\n",
            "          <Year>1979</Year>\n",
            "          <Month>10</Month>\n",
            "          <Day>1</Day>\n",
            "        </PubMedPubDate>\n",
            "        <PubMedPubDate PubStatus=\"medline\">\n",
            "          <Year>1979</Year>\n",
            "          <Month>10</Month>\n",
            "          <Day>1</Day>\n",
            "          <Hour>0</Hour>\n",
            "          <Minute>1</Minute>\n",
            "        </PubMedPubDate>\n",
            "        <PubMedPubDate PubStatus=\"entrez\">\n",
            "          <Year>1979</Year>\n",
            "          <Month>10</Month>\n",
            "          <Day>1</Day>\n",
            "          <Hour>0</Hour>\n",
            "          <Minute>0</Minute>\n",
            "        </PubMedPubDate>\n",
            "      </History>\n",
            "      <PublicationStatus>ppublish</PublicationStatus>\n",
            "      <ArticleIdList>\n",
            "        <ArticleId IdType=\"pubmed\">92019</ArticleId>\n",
            "      </ArticleIdList>\n",
            "    </PubmedData>\n",
            "  </PubmedArticle>\n",
            "  \n"
          ],
          "name": "stdout"
        }
      ]
    }
  ]
}